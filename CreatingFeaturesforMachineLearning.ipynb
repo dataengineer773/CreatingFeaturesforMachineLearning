{
 "cells": [
  {
   "cell_type": "code",
   "execution_count": 1,
   "id": "dbe83148-0e9d-4c48-af61-787e907c0ddc",
   "metadata": {},
   "outputs": [],
   "source": [
    "# Load image\n",
    "import cv2\n",
    "import numpy as np\n",
    "from matplotlib import pyplot as plt"
   ]
  },
  {
   "cell_type": "code",
   "execution_count": 2,
   "id": "9a73ef90-bfc2-43fb-aaf8-efd222f2fea4",
   "metadata": {},
   "outputs": [],
   "source": [
    "# Load image as grayscale\n",
    "image = cv2.imread(\"PLANEE.JPEG\", cv2.IMREAD_GRAYSCALE)"
   ]
  },
  {
   "cell_type": "code",
   "execution_count": 3,
   "id": "b432a2e5-7f04-4410-bc6a-2a5673e10eb6",
   "metadata": {},
   "outputs": [],
   "source": [
    "# Resize image to 10 pixels by 10 pixels\n",
    "image_10x10 = cv2.resize(image, (10, 10))"
   ]
  },
  {
   "cell_type": "code",
   "execution_count": 4,
   "id": "717270f5-6d7b-4eb4-aa6e-91f0189c3387",
   "metadata": {},
   "outputs": [
    {
     "data": {
      "text/plain": [
       "array([255, 255, 255, 255, 255, 255, 255, 255, 255, 255, 255, 255, 255,\n",
       "       255, 255, 255, 255, 255, 255, 255, 255, 255, 255, 255, 255, 255,\n",
       "       255, 255, 255, 255, 255, 246, 255, 255, 255, 255, 254, 241,  75,\n",
       "       255, 186, 232, 251, 255, 254, 250, 197, 172,  88, 255, 254, 255,\n",
       "       230,  80,  28, 191,  64,   8, 230, 255, 255, 249, 182, 123, 240,\n",
       "       254, 255, 209, 255, 255, 255, 255, 255, 255, 255, 255, 255, 255,\n",
       "       255, 255, 255, 255, 255, 255, 255, 255, 255, 255, 255, 255, 255,\n",
       "       255, 255, 255, 255, 255, 255, 255, 255, 255], dtype=uint8)"
      ]
     },
     "execution_count": 4,
     "metadata": {},
     "output_type": "execute_result"
    }
   ],
   "source": [
    "# Convert image data to one-dimensional vector\n",
    "image_10x10.flatten()"
   ]
  },
  {
   "cell_type": "code",
   "execution_count": 5,
   "id": "5c033f9f-1fef-4c0e-8b26-67a8d7c4b1fc",
   "metadata": {},
   "outputs": [
    {
     "data": {
      "image/png": "[encoded data removed]",
      "text/plain": [
       "<Figure size 640x480 with 1 Axes>"
      ]
     },
     "metadata": {},
     "output_type": "display_data"
    }
   ],
   "source": [
    "plt.imshow(image_10x10, cmap=\"gray\"), plt.axis(\"off\")\n",
    "plt.show()"
   ]
  },
  {
   "cell_type": "code",
   "execution_count": 6,
   "id": "3a0d6210-78c5-41f0-8045-f0f1c27c7e65",
   "metadata": {},
   "outputs": [
    {
     "data": {
      "text/plain": [
       "(10, 10)"
      ]
     },
     "execution_count": 6,
     "metadata": {},
     "output_type": "execute_result"
    }
   ],
   "source": [
    "image_10x10.shape"
   ]
  },
  {
   "cell_type": "code",
   "execution_count": 7,
   "id": "001f4a11-9c16-418d-abf0-edab6a06a77e",
   "metadata": {},
   "outputs": [
    {
     "data": {
      "text/plain": [
       "(100,)"
      ]
     },
     "execution_count": 7,
     "metadata": {},
     "output_type": "execute_result"
    }
   ],
   "source": [
    "image_10x10.flatten().shape"
   ]
  },
  {
   "cell_type": "code",
   "execution_count": 8,
   "id": "1a2b08aa-33d9-45ad-b17b-73e32b3fbbdb",
   "metadata": {},
   "outputs": [],
   "source": [
    "# Load image in grayscale\n",
    "image_256x256_gray = cv2.imread(\"PLANEE.JPEG\", cv2.IMREAD_GRAYSCALE)"
   ]
  },
  {
   "cell_type": "code",
   "execution_count": 9,
   "id": "1e64ec9e-333e-4fd1-894f-f958c159969e",
   "metadata": {},
   "outputs": [
    {
     "data": {
      "text/plain": [
       "(34040,)"
      ]
     },
     "execution_count": 9,
     "metadata": {},
     "output_type": "execute_result"
    }
   ],
   "source": [
    "# Convert image data to one-dimensional vector, show dimensions\n",
    "image_256x256_gray.flatten().shape"
   ]
  },
  {
   "cell_type": "code",
   "execution_count": 10,
   "id": "6a3fc935-12a6-4712-9181-8007676efe5c",
   "metadata": {},
   "outputs": [],
   "source": [
    "# Load image in color\n",
    "image_256x256_color = cv2.imread(\"PLANEE.JPEG\", cv2.IMREAD_COLOR)"
   ]
  },
  {
   "cell_type": "code",
   "execution_count": 11,
   "id": "a4d354a1-d36e-4970-a422-d251fefb8c83",
   "metadata": {},
   "outputs": [
    {
     "data": {
      "text/plain": [
       "(102120,)"
      ]
     },
     "execution_count": 11,
     "metadata": {},
     "output_type": "execute_result"
    }
   ],
   "source": [
    "# Convert image data to one-dimensional vector, show dimensions\n",
    "image_256x256_color.flatten().shape"
   ]
  },
  {
   "cell_type": "code",
   "execution_count": null,
   "id": "639aaed0-e2bc-411b-924a-482e73181e2d",
   "metadata": {},
   "outputs": [],
   "source": []
  }
 ],
 "metadata": {
  "kernelspec": {
   "display_name": "Python 3 (ipykernel)",
   "language": "python",
   "name": "python3"
  },
  "language_info": {
   "codemirror_mode": {
    "name": "ipython",
    "version": 3
   },
   "file_extension": ".py",
   "mimetype": "text/x-python",
   "name": "python",
   "nbconvert_exporter": "python",
   "pygments_lexer": "ipython3",
   "version": "3.12.3"
  }
 },
 "nbformat": 4,
 "nbformat_minor": 5
}
